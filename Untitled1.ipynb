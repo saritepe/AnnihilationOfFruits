{
 "cells": [
  {
   "cell_type": "code",
   "execution_count": 1,
   "metadata": {},
   "outputs": [
    {
     "name": "stdout",
     "output_type": "stream",
     "text": [
      "[100.34651958]\n"
     ]
    }
   ],
   "source": [
    "# AR example\n",
    "from statsmodels.tsa.ar_model import AR\n",
    "from random import random\n",
    "# contrived dataset\n",
    "\n",
    "data = [x + random() for x in range(1, 100)]\n",
    "# fit model\n",
    "model = AR(data)\n",
    "model_fit = model.fit()\n",
    "# make prediction\n",
    "yhat = model_fit.predict(len(data), len(data))\n",
    "print(yhat)"
   ]
  },
  {
   "cell_type": "code",
   "execution_count": 11,
   "metadata": {},
   "outputs": [],
   "source": [
    "import warnings\n",
    "import pandas as pd\n",
    "warnings.filterwarnings(\"ignore\")\n",
    "df = pd.read_csv(\"C:/Users/ugurs/Desktop/Migros/satis.csv\", sep = ';')\n",
    "ornek_meyve = df.loc[df['MalNo'] == 280019]\n",
    "cols = ['Magaza', 'KategoriNo', 'KategoriAnaGrupNo', 'KategoriGrupNo', 'KategoriSinifNo', \n",
    "        'KategoriAltSinifNo', 'MalNo', 'SatisNetTutar']\n",
    "ornek_meyve.drop(cols, axis = 1, inplace = True)\n",
    "ornek_meyve = ornek_meyve.sort_values('Tarih')\n"
   ]
  },
  {
   "cell_type": "code",
   "execution_count": 16,
   "metadata": {},
   "outputs": [
    {
     "data": {
      "text/plain": [
       "Tarih          object\n",
       "SatisMiktar    object\n",
       "dtype: object"
      ]
     },
     "execution_count": 16,
     "metadata": {},
     "output_type": "execute_result"
    }
   ],
   "source": [
    "ornek_meyve.dtypes"
   ]
  },
  {
   "cell_type": "code",
   "execution_count": 17,
   "metadata": {},
   "outputs": [
    {
     "data": {
      "text/plain": [
       "Tarih                 object\n",
       "Magaza                 int64\n",
       "KategoriNo             int64\n",
       "KategoriAnaGrupNo      int64\n",
       "KategoriGrupNo         int64\n",
       "KategoriSinifNo        int64\n",
       "KategoriAltSinifNo     int64\n",
       "MalNo                  int64\n",
       "SatisMiktar           object\n",
       "SatisNetTutar         object\n",
       "dtype: object"
      ]
     },
     "execution_count": 17,
     "metadata": {},
     "output_type": "execute_result"
    }
   ],
   "source": [
    "df.dtypes"
   ]
  },
  {
   "cell_type": "code",
   "execution_count": null,
   "metadata": {},
   "outputs": [],
   "source": []
  }
 ],
 "metadata": {
  "kernelspec": {
   "display_name": "Python 2",
   "language": "python",
   "name": "python2"
  },
  "language_info": {
   "codemirror_mode": {
    "name": "ipython",
    "version": 2
   },
   "file_extension": ".py",
   "mimetype": "text/x-python",
   "name": "python",
   "nbconvert_exporter": "python",
   "pygments_lexer": "ipython2",
   "version": "2.7.15"
  }
 },
 "nbformat": 4,
 "nbformat_minor": 2
}
